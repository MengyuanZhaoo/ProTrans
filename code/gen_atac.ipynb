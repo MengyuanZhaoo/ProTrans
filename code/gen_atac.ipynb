{
 "cells": [
  {
   "cell_type": "markdown",
   "metadata": {},
   "source": [
    "#### For GSM5123953_X066-MP0C1W6_leukopak_perm-cells_tea_200M_cellranger-arc_filtered_feature_bc_matrix.h5"
   ]
  },
  {
   "cell_type": "code",
   "execution_count": null,
   "metadata": {
    "vscode": {
     "languageId": "r"
    }
   },
   "outputs": [
    {
     "name": "stdout",
     "output_type": "stream",
     "text": [
      "List of 1\n",
      " $ matrix:List of 6\n",
      "  ..$ barcodes: chr [1:9240(1d)] \"AAACAGCCAACATAAG-1\" \"AAACAGCCAAGTTATC-1\" \"AAACAGCCAATAAGCA-1\" \"AAACATGCAGAGAGCC-1\" ...\n",
      "  ..$ data    : int [1:42727908(1d)] 1 1 1 1 1 1 2 1 1 1 ...\n",
      "  ..$ features:List of 6\n",
      "  .. ..$ _all_tag_keys: chr [1:2(1d)] \"genome\" \"interval\"\n",
      "  .. ..$ feature_type : chr [1:123983(1d)] \"Gene Expression\" \"Gene Expression\" \"Gene Expression\" \"Gene Expression\" ...\n",
      "  .. ..$ genome       : chr [1:123983(1d)] \"GRCh38\" \"GRCh38\" \"GRCh38\" \"GRCh38\" ...\n",
      "  .. ..$ id           : chr [1:123983(1d)] \"ENSG00000243485\" \"ENSG00000237613\" \"ENSG00000186092\" \"ENSG00000238009\" ...\n",
      "  .. ..$ interval     : chr [1:123983(1d)] \"chr1:29553-30267\" \"chr1:36080-36081\" \"chr1:65418-69055\" \"chr1:120931-133723\" ...\n",
      "  .. ..$ name         : chr [1:123983(1d)] \"MIR1302-2HG\" \"FAM138A\" \"OR4F5\" \"AL627309.1\" ...\n",
      "  ..$ indices : int [1:42727908(1d)] 385 477 491 648 654 722 876 977 1073 1076 ...\n",
      "  ..$ indptr  : int [1:9241(1d)] 0 2778 12282 16206 19845 24475 29288 34174 35243 40242 ...\n",
      "  ..$ shape   : int [1:2(1d)] 123983 9240\n"
     ]
    },
    {
     "data": {
      "text/html": [
       "<style>\n",
       ".list-inline {list-style: none; margin:0; padding: 0}\n",
       ".list-inline>li {display: inline-block}\n",
       ".list-inline>li:not(:last-child)::after {content: \"\\00b7\"; padding: 0 .5ex}\n",
       "</style>\n",
       "<ol class=list-inline><li>'Gene Expression'</li><li>'Peaks'</li></ol>\n"
      ],
      "text/latex": [
       "\\begin{enumerate*}\n",
       "\\item 'Gene Expression'\n",
       "\\item 'Peaks'\n",
       "\\end{enumerate*}\n"
      ],
      "text/markdown": [
       "1. 'Gene Expression'\n",
       "2. 'Peaks'\n",
       "\n",
       "\n"
      ],
      "text/plain": [
       "[1] \"Gene Expression\" \"Peaks\"          "
      ]
     },
     "metadata": {},
     "output_type": "display_data"
    },
    {
     "data": {
      "text/html": [
       "<style>\n",
       ".list-inline {list-style: none; margin:0; padding: 0}\n",
       ".list-inline>li {display: inline-block}\n",
       ".list-inline>li:not(:last-child)::after {content: \"\\00b7\"; padding: 0 .5ex}\n",
       "</style>\n",
       "<ol class=list-inline><li>87382</li><li>9240</li></ol>\n"
      ],
      "text/latex": [
       "\\begin{enumerate*}\n",
       "\\item 87382\n",
       "\\item 9240\n",
       "\\end{enumerate*}\n"
      ],
      "text/markdown": [
       "1. 87382\n",
       "2. 9240\n",
       "\n",
       "\n"
      ],
      "text/plain": [
       "[1] 87382  9240"
      ]
     },
     "metadata": {},
     "output_type": "display_data"
    },
    {
     "name": "stderr",
     "output_type": "stream",
     "text": [
      "Warning message in asMethod(object):\n",
      "\"sparse->dense coercion: allocating vector of size 6.0 GiB\"\n"
     ]
    }
   ],
   "source": [
    "library(rhdf5)\n",
    "file <- 'GSM5123953_X066-MP0C1W6_leukopak_perm-cells_tea_200M_cellranger-arc_filtered_feature_bc_matrix.h5'\n",
    "hd5 <- h5read(file,'/')\n",
    "\n",
    "barcodes <- hd5$matrix$barcodes\n",
    "counts <- hd5$matrix$data\n",
    "gene_id <- hd5$matrix$features$name\n",
    "peak_id <- hd5$matrix$features$interval\n",
    "indices <- hd5$matrix$indices\n",
    "indptr <- hd5$matrix$indptr\n",
    "shape <- hd5$matrix$shape\n",
    "feature_type <- hd5$matrix$features$feature_type\n",
    "unique(feature_type)\n",
    "\n",
    "library(Matrix)\n",
    "mat <- sparseMatrix(i = indices[], p = indptr[], x = as.numeric(x = counts[]), dims = shape[], dimnames = list(peak_id,barcodes), index1 = FALSE)\n",
    "atac <- mat[as.vector(which(feature_type == \"Peaks\")),]\n",
    "dim(atac)\n",
    "\n",
    "atac <- as.matrix(atac)\n",
    "out_file <- 'atac.csv'\n",
    "write.csv(atac, file = out_file, row.names = TRUE)"
   ]
  }
 ],
 "metadata": {
  "kernelspec": {
   "display_name": "R",
   "language": "R",
   "name": "ir"
  },
  "language_info": {
   "codemirror_mode": "r",
   "file_extension": ".r",
   "mimetype": "text/x-r-source",
   "name": "R",
   "pygments_lexer": "r",
   "version": "4.2.2"
  }
 },
 "nbformat": 4,
 "nbformat_minor": 2
}
