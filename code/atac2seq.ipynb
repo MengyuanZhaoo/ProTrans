{
 "cells": [
  {
   "cell_type": "code",
   "execution_count": null,
   "metadata": {},
   "outputs": [
    {
     "name": "stdout",
     "output_type": "stream",
     "text": [
      "<KeysViewHDF5 ['barcodes', 'data', 'features', 'indices', 'indptr', 'shape']>\n",
      "       feature_type  genome                      id                interval  \\\n",
      "36601         Peaks  GRCh38        chr1:10002-10473        chr1:10002-10473   \n",
      "36602         Peaks  GRCh38      chr1:180625-181988      chr1:180625-181988   \n",
      "36603         Peaks  GRCh38      chr1:267838-268162      chr1:267838-268162   \n",
      "36604         Peaks  GRCh38      chr1:629773-630119      chr1:629773-630119   \n",
      "36605         Peaks  GRCh38      chr1:633794-634259      chr1:633794-634259   \n",
      "...             ...     ...                     ...                     ...   \n",
      "123932        Peaks  GRCh38  chrY:56841958-56843017  chrY:56841958-56843017   \n",
      "123933        Peaks  GRCh38  chrY:56843811-56844129  chrY:56843811-56844129   \n",
      "123934        Peaks  GRCh38  chrY:56847098-56848101  chrY:56847098-56848101   \n",
      "123935        Peaks  GRCh38  chrY:56849235-56849566  chrY:56849235-56849566   \n",
      "123936        Peaks  GRCh38  chrY:56850169-56851342  chrY:56850169-56851342   \n",
      "\n",
      "                          name  \n",
      "36601         chr1:10002-10473  \n",
      "36602       chr1:180625-181988  \n",
      "36603       chr1:267838-268162  \n",
      "36604       chr1:629773-630119  \n",
      "36605       chr1:633794-634259  \n",
      "...                        ...  \n",
      "123932  chrY:56841958-56843017  \n",
      "123933  chrY:56843811-56844129  \n",
      "123934  chrY:56847098-56848101  \n",
      "123935  chrY:56849235-56849566  \n",
      "123936  chrY:56850169-56851342  \n",
      "\n",
      "[87336 rows x 5 columns]\n"
     ]
    }
   ],
   "source": [
    "import h5py\n",
    "import pandas as pd\n",
    "\n",
    "def hdf5_group_to_dataframe(group):\n",
    "    data_dict = {}\n",
    "    for key, item in group.items():\n",
    "        if key != '_all_tag_keys':\n",
    "            data_dict[key] = item[()]\n",
    "    return pd.DataFrame(data_dict)\n",
    "\n",
    "def read_h5_to_dataframe(file_path):\n",
    "    with h5py.File(file_path, 'r') as f:\n",
    "        dataset_name = list(f.keys())[0]\n",
    "        print(f[dataset_name].keys())\n",
    "        data = f[dataset_name]['features']\n",
    "\n",
    "        df=hdf5_group_to_dataframe(data)\n",
    "    return df\n",
    "\n",
    "def byte_to_str(value):\n",
    "    if isinstance(value, bytes):\n",
    "        return value.decode('utf-8')\n",
    "    else:\n",
    "        return value\n",
    "    \n",
    "\n",
    "file = '../dataset/GSM5123953.h5'\n",
    "df = read_h5_to_dataframe(file)\n",
    "df_atac = df[df['feature_type']==b'Peaks']\n",
    "df_atac = df_atac.applymap(byte_to_str)\n",
    "df_atac = df_atac[df_atac['interval'].str.startswith('chr')]\n",
    "print(df_atac)"
   ]
  },
  {
   "cell_type": "code",
   "execution_count": null,
   "metadata": {},
   "outputs": [],
   "source": [
    "from pyfaidx import Fasta\n",
    "\n",
    "genome_file = r'GCF_000001405.40_GRCh38.p14_genomic.fna' # download from NCBI\n",
    "dict_chr = {'chr1':'NC_000001.11','chr2':'NC_000002.12','chr3':'NC_000003.12','chr4':'NC_000004.12','chr5':'NC_000005.10',\n",
    "            'chr6':'NC_000006.12','chr7':'NC_000007.14','chr8':'NC_000008.11','chr9':'NC_000009.12','chr10':'NC_000010.11',\n",
    "            'chr11':'NC_000011.10','chr12':'NC_000012.12','chr13':'NC_000013.11','chr14':'NC_000014.9','chr15':'NC_000015.10',\n",
    "            'chr16':'NC_000016.10','chr17':'NC_000017.11','chr18':'NC_000018.10','chr19':'NC_000019.10','chr20':'NC_000020.11',\n",
    "            'chr21':'NC_000021.9','chr22':'NC_000022.11','chrX':'NC_000023.11','chrY':'NC_000024.10','chrM':'NC_012920.1'\n",
    "            }\n",
    "\n",
    "genome = Fasta(genome_file)"
   ]
  },
  {
   "cell_type": "code",
   "execution_count": null,
   "metadata": {},
   "outputs": [],
   "source": [
    "sequences = []\n",
    "for peak in df_atac['interval'].values:\n",
    "    [chr,loc] = peak.split(':')\n",
    "    [start,end]=loc.split('-')\n",
    "    sequences.append(str(genome[dict_chr[chr]][int(start):int(end)]))\n",
    "\n",
    "df_sequence = pd.DataFrame({'interval':df_atac['interval'].values, 'sequence':sequences})\n",
    "df_sequence.to_csv('atac_sequence.csv')"
   ]
  }
 ],
 "metadata": {
  "kernelspec": {
   "display_name": "scvi",
   "language": "python",
   "name": "python3"
  },
  "language_info": {
   "codemirror_mode": {
    "name": "ipython",
    "version": 3
   },
   "file_extension": ".py",
   "mimetype": "text/x-python",
   "name": "python",
   "nbconvert_exporter": "python",
   "pygments_lexer": "ipython3",
   "version": "3.9.16"
  }
 },
 "nbformat": 4,
 "nbformat_minor": 2
}
