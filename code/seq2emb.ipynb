{
 "cells": [
  {
   "cell_type": "code",
   "execution_count": null,
   "metadata": {},
   "outputs": [],
   "source": [
    "import numpy as np\n",
    "import pandas as pd\n",
    "\n",
    "SUB_LEN = 100\n",
    "k = 8\n",
    "zero_embedding = \"NNNNNNNN\"\n",
    "\n",
    "dna2vec = {}\n",
    "with open('../data/dna2vec/pre-trained DNA-8mers.txt', 'r') as f:\n",
    "    for line in f:\n",
    "        k_mer = line[:k]\n",
    "        line1 = line[k + 1:].split(' ')\n",
    "        vector = [float(x) for x in line1]\n",
    "        emb = np.array(vector)\n",
    "        dna2vec[k_mer] = emb\n",
    "print(dna2vec)"
   ]
  },
  {
   "cell_type": "code",
   "execution_count": null,
   "metadata": {},
   "outputs": [],
   "source": [
    "file = 'atac_sequence.csv'\n",
    "df_seq = pd.read_csv(file, index_col=0)\n",
    "print(df_seq)"
   ]
  },
  {
   "cell_type": "code",
   "execution_count": null,
   "metadata": {},
   "outputs": [],
   "source": [
    "def chunks(l):\n",
    "    n = SUB_LEN\n",
    "    y = [l[i:i + n] for i in range(0, len(l), n)]\n",
    "    return y\n",
    "\n",
    "def segmentation(seq):\n",
    "    if len(seq) < k: return np.array(dna2vec[zero_embedding])\n",
    "    vec = [seq[j:j + k] for j in range(len(seq) - (k - 1))]\n",
    "    #=====================================================\n",
    "    for i in range(len(vec)):\n",
    "        if vec[i] not in dna2vec.keys():\n",
    "            vec[i] = zero_embedding\n",
    "    #=====================================================\n",
    "    vec = [dna2vec[i] for i in vec]\n",
    "    y = np.array(vec).mean(axis=0)\n",
    "    return y\n",
    "\n",
    "\n",
    "num_gene = 0\n",
    "NUM = 20\n",
    "def full_map(x):\n",
    "    global num_gene\n",
    "    print('In full_map, peak '+str(num_gene)+' ...')\n",
    "    num_gene +=1\n",
    "    temp = chunks(x)\n",
    "    temp = map(segmentation, temp)\n",
    "    temp = tuple(temp)\n",
    "    temp = np.stack(temp)\n",
    "    if temp.shape[0] < NUM:\n",
    "        sup = np.zeros(shape=(NUM - temp.shape[0], 100), dtype=np.float32)\n",
    "        temp = np.vstack((temp, sup))\n",
    "    elif temp.shape[0] > NUM:\n",
    "        temp = temp[:NUM,:]\n",
    "    print(temp.shape)\n",
    "    return temp\n",
    "\n",
    "\n",
    "def three_quartile_median(arr):\n",
    "    sorted_arr = np.sort(arr)\n",
    "    length = len(sorted_arr)\n",
    "    index = length * 3 / 4\n",
    "    if index.is_integer():\n",
    "        return sorted_arr[int(index)]\n",
    "    else:\n",
    "        lower_index = int(index)\n",
    "        upper_index = lower_index + 1\n",
    "        return (sorted_arr[lower_index] + sorted_arr[upper_index]) / 2\n",
    "\n",
    "df_seq['sequence'] = df_seq['sequence'].str.upper()\n",
    "seqs = df_seq['sequence'].values\n",
    "embs=[]\n",
    "lengths = []\n",
    "for seq in seqs:\n",
    "    emb = full_map(seq).reshape(-1)\n",
    "    embs.append(emb)\n",
    "    lengths.append(len(emb))\n",
    "print(lengths)"
   ]
  },
  {
   "cell_type": "code",
   "execution_count": null,
   "metadata": {},
   "outputs": [],
   "source": [
    "file_out = 'atac_emb.npz'\n",
    "names = df_seq['interval'].values\n",
    "np.savez(file_out, peak = names, embedding = np.array(embs))"
   ]
  }
 ],
 "metadata": {
  "kernelspec": {
   "display_name": "scvi",
   "language": "python",
   "name": "python3"
  },
  "language_info": {
   "codemirror_mode": {
    "name": "ipython",
    "version": 3
   },
   "file_extension": ".py",
   "mimetype": "text/x-python",
   "name": "python",
   "nbconvert_exporter": "python",
   "pygments_lexer": "ipython3",
   "version": "3.9.16"
  }
 },
 "nbformat": 4,
 "nbformat_minor": 2
}
